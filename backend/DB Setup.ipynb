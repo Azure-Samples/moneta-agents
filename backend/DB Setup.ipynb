{
 "cells": [
  {
   "cell_type": "code",
   "execution_count": 1,
   "metadata": {},
   "outputs": [],
   "source": [
    "import json\n",
    "import time\n",
    "from dotenv import load_dotenv\n",
    "\n",
    "load_dotenv()\n",
    "\n",
    "import sys\n",
    "import os\n",
    "\n",
    "\n",
    "from azure.identity import DefaultAzureCredential\n",
    "from crm_store import CRMStore\n",
    "\n",
    "key = DefaultAzureCredential()\n",
    "db = CRMStore(\n",
    "        url=os.getenv(\"COSMOSDB_ENDPOINT\"),\n",
    "        key=key,\n",
    "        database_name=os.getenv(\"COSMOSDB_DATABASE_NAME\"),\n",
    "        container_name=os.getenv(\"COSMOSDB_CONTAINER_CLIENT_NAME\")\n",
    "    )\n"
   ]
  },
  {
   "cell_type": "code",
   "execution_count": 2,
   "metadata": {},
   "outputs": [],
   "source": [
    "\n",
    "ins_customer = ''\n",
    "try:  \n",
    "    # Open and read the JSON file\n",
    "    with open('/home/aga/azureai/aoai-fsi-empowering-advisory-agentic/backend/agents/fsi_insurance/data/customer_insurance.json', 'r') as file:\n",
    "        ins_customer =  json.load(file)\n",
    "except Exception as e:\n",
    "    print(f\"An unexpected error occurred: {e}\") \n",
    "\n",
    "db.create_customer_profile(ins_customer)"
   ]
  },
  {
   "cell_type": "code",
   "execution_count": 2,
   "metadata": {},
   "outputs": [],
   "source": [
    "\n",
    "bank_customer = ''\n",
    "try:  \n",
    "    # Open and read the JSON file\n",
    "    with open('/home/aga/azureai/aoai-fsi-empowering-advisory-agentic/backend/agents/fsi_banking/data/customer123456.json', 'r') as file:\n",
    "        bank_customer =  json.load(file)\n",
    "except Exception as e:\n",
    "    print(f\"An unexpected error occurred: {e}\") \n",
    "\n",
    "db.create_customer_profile(bank_customer)"
   ]
  },
  {
   "cell_type": "code",
   "execution_count": 3,
   "metadata": {},
   "outputs": [
    {
     "name": "stdout",
     "output_type": "stream",
     "text": [
      "{'id': '123456', 'clientID': '123456', 'firstName': 'Pete', 'lastName': 'Mitchell', 'dateOfBirth': '1980-01-01', 'nationality': 'American', 'contactDetails': {'email': 'pete.mit@example.com', 'phone': '123-456-7890'}, 'address': {'street': '123 Main St', 'city': 'New York', 'state': 'NY', 'postalCode': '12345', 'country': 'USA'}, 'financialInformation': {'sourceOfWealth': 'Investments', 'netIncome': '150000', 'annualIncome': '200000', 'assets': {'realEstate': '500000', 'investments': '300000', 'cash': '100000'}}, 'investmentProfile': {'riskProfile': 'Aggressive', 'investmentObjectives': 'Growth', 'investmentHorizon': 'Long-term'}, 'portfolio': {'strategy': 'The portfolio focus on assets with higher growth potential, such as stocks in emerging industries or innovative companies. By emphasizing growth, investors accept greater risk but also seek higher returns.', 'riskProfile': 'Growth', 'performanceYTD': '12.3%', 'performanceSinceInception': '22.3%', 'inceptionDate': '12/07/2015', 'positions': [{'ticker': 'MSFT', 'companyName': 'Microsoft Corp', 'sector': 'Technology', 'industry': 'Software', 'currency': 'USD', 'assetClass': 'Equity', 'type': 'Common Stock', 'average_cost': '350', 'units': '200'}, {'ticker': 'NVDA', 'companyName': 'NVIDIA Corp', 'sector': 'Technology', 'industry': 'Semiconductors', 'currency': 'USD', 'assetClass': 'Equity', 'type': 'Common Stock', 'average_cost': '150', 'units': '150'}, {'ticker': 'AAPL', 'companyName': 'Apple Inc', 'sector': 'Technology', 'industry': 'Consumer Electronics', 'currency': 'USD', 'assetClass': 'Equity', 'type': 'Common Stock', 'average_cost': '90', 'units': '100'}, {'ticker': 'AMZN', 'companyName': 'Amazon.com Inc', 'sector': 'Consumer Discretionary', 'industry': 'Internet & Direct Marketing Retail', 'currency': 'USD', 'assetClass': 'Equity', 'type': 'Common Stock', 'average_cost': '150', 'units': '180'}, {'ticker': 'GOOGL', 'companyName': 'Alphabet Inc', 'sector': 'Communication Services', 'industry': 'Interactive Media & Services', 'currency': 'USD', 'assetClass': 'Equity', 'type': 'Common Stock', 'average_cost': '125', 'units': '50'}, {'ticker': 'META', 'companyName': 'Facebook Inc / Meta', 'sector': 'Communication Services', 'industry': 'Interactive Media & Services', 'currency': 'USD', 'assetClass': 'Equity', 'type': 'Common Stock', 'average_cost': '100', 'units': '50'}, {'ticker': 'JNJ', 'companyName': 'Johnson & Johnson', 'sector': 'Health Care', 'industry': 'Pharmaceuticals', 'currency': 'USD', 'assetClass': 'Equity', 'type': 'Common Stock', 'average_cost': '100', 'units': '40'}, {'ticker': 'V', 'companyName': 'Visa Inc', 'sector': 'Financials', 'industry': 'IT Services', 'currency': 'USD', 'assetClass': 'Equity', 'type': 'Common Stock', 'average_cost': '78', 'units': '50'}]}, '_rid': 'TJJPANstunIEAAAAAAAAAA==', '_self': 'dbs/TJJPAA==/colls/TJJPANstunI=/docs/TJJPANstunIEAAAAAAAAAA==/', '_etag': '\"c0005ea6-0000-4700-0000-671636730000\"', '_attachments': 'attachments/', '_ts': 1729508979}\n"
     ]
    }
   ],
   "source": [
    "print(db.get_customer_profile_by_client_id('123456'))"
   ]
  }
 ],
 "metadata": {
  "kernelspec": {
   "display_name": "Python 3",
   "language": "python",
   "name": "python3"
  },
  "language_info": {
   "codemirror_mode": {
    "name": "ipython",
    "version": 3
   },
   "file_extension": ".py",
   "mimetype": "text/x-python",
   "name": "python",
   "nbconvert_exporter": "python",
   "pygments_lexer": "ipython3",
   "version": "3.10.12"
  }
 },
 "nbformat": 4,
 "nbformat_minor": 2
}
