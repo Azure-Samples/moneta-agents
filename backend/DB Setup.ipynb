{
 "cells": [
  {
   "cell_type": "code",
   "execution_count": 1,
   "metadata": {},
   "outputs": [],
   "source": [
    "import json\n",
    "import time\n",
    "from dotenv import load_dotenv\n",
    "\n",
    "load_dotenv()\n",
    "\n",
    "import sys\n",
    "import os\n",
    "\n",
    "\n",
    "from azure.identity import DefaultAzureCredential\n",
    "from crm_store import CRMStore\n",
    "\n",
    "key = DefaultAzureCredential()\n",
    "db = CRMStore(\n",
    "        url=os.getenv(\"COSMOSDB_ENDPOINT\"),\n",
    "        key=key,\n",
    "        database_name=os.getenv(\"COSMOSDB_DATABASE_NAME\"),\n",
    "        container_name=os.getenv(\"COSMOSDB_CONTAINER_CLIENT_NAME\")\n",
    "    )\n"
   ]
  },
  {
   "cell_type": "code",
   "execution_count": 2,
   "metadata": {},
   "outputs": [],
   "source": [
    "\n",
    "ins_customer = ''\n",
    "try:  \n",
    "    # Open and read the JSON file\n",
    "    with open('/home/aga/azureai/aoai-fsi-empowering-advisory-agentic/backend/agents/fsi_insurance/data/customer_insurance.json', 'r') as file:\n",
    "        ins_customer =  json.load(file)\n",
    "except Exception as e:\n",
    "    print(f\"An unexpected error occurred: {e}\") \n",
    "\n",
    "db.create_customer_profile(ins_customer)"
   ]
  },
  {
   "cell_type": "code",
   "execution_count": null,
   "metadata": {},
   "outputs": [],
   "source": [
    "\n",
    "bank_customer = ''\n",
    "try:  \n",
    "    # Open and read the JSON file\n",
    "    with open('/home/aga/azureai/aoai-fsi-empowering-advisory-agentic/backend/agents/fsi_banking/data/customer123456.json', 'r') as file:\n",
    "        bank_customer =  json.load(file)\n",
    "except Exception as e:\n",
    "    print(f\"An unexpected error occurred: {e}\") \n",
    "\n",
    "db.create_customer_profile(bank_customer)"
   ]
  },
  {
   "cell_type": "code",
   "execution_count": 2,
   "metadata": {},
   "outputs": [
    {
     "name": "stdout",
     "output_type": "stream",
     "text": [
      "{'id': '987654321', 'clientID': '987654321', 'firstName': 'John', 'lastName': 'Doe', 'fullName': 'John Doe', 'dateOfBirth': '1980-01-01', 'nationality': 'Malaysia', 'contactDetails': {'email': 'john.doe@example.com', 'phone': '123-456-7890'}, 'address': {'street': '123 Main St', 'city': 'New York', 'state': 'NY', 'postalCode': '12345', 'country': 'USA'}, 'policies': [{'PolicyNo': 'A1234567', 'BasicPlanProduct': 'P230ZII', 'ProductType': 'Ztravel International', 'PolicyStatus': 'A', 'EffectiveDate': '2024-06-18 00:00:00.000', 'ExpiryDate': '2024-07-13 00:00:00.000', 'Overseas Medical Expenses': '500000', 'Follow up Treatment in Malaysia': '50000.0', 'Alternative Medicine': '500.0', 'Overseas Hospital Income': '15000.0', 'Child Care Benefit': '10000.0', 'Compassionate Visit': '10000.0', 'Emergency Medical Evacuation': 'Unlimited', 'Medical Repatriation': 'Unlimited', 'Repatriation of Mortal Remains': 'Unlimited'}, {'PolicyNo': 'B1234567', 'BasicPlanProduct': 'P230ZII', 'ProductType': 'Ztravel International Plus', 'PolicyStatus': 'A', 'EffectiveDate': '2024-06-18 00:00:00.000', 'ExpiryDate': '2024-07-13 00:00:00.000', 'Overseas Medical Expenses': '500000', 'Follow up Treatment in Malaysia': '50000.0', 'Alternative Medicine': '5000.0', 'Overseas Hospital Income': '15000.0', 'Child Care Benefit': '100000.0', 'Compassionate Visit': '10000.0', 'Emergency Medical Evacuation': 'Unlimited', 'Medical Repatriation': 'Unlimited', 'Repatriation of Mortal Remains': 'Unlimited'}, {'PolicyNo': 'C1234567', 'BasicPlanProduct': 'P045PSI', 'ProductType': 'Personal Accident', 'PolicyStatus': 'A', 'EffectiveDate': '2018-08-15 00:00:00.000', 'ExpiryDate': '2019-08-14 00:00:00.000', 'Overseas Medical Expenses': '500000', 'Follow up Treatment in Malaysia': '500000.0', 'Alternative Medicine': '5000.0', 'Overseas Hospital Income': '150000.0', 'Child Care Benefit': '100000.0', 'Compassionate Visit': '100000.0', 'Emergency Medical Evacuation': 'Unlimited', 'Medical Repatriation': 'Unlimited', 'Repatriation of Mortal Remains': 'Unlimited'}], '_rid': 'TJJPANstunIDAAAAAAAAAA==', '_self': 'dbs/TJJPAA==/colls/TJJPANstunI=/docs/TJJPANstunIDAAAAAAAAAA==/', '_etag': '\"1900162f-0000-4700-0000-6710b2d40000\"', '_attachments': 'attachments/', '_ts': 1729147604}\n"
     ]
    }
   ],
   "source": [
    "print(db.get_customer_profile_by_client_id('987654321'))"
   ]
  }
 ],
 "metadata": {
  "kernelspec": {
   "display_name": "Python 3",
   "language": "python",
   "name": "python3"
  },
  "language_info": {
   "codemirror_mode": {
    "name": "ipython",
    "version": 3
   },
   "file_extension": ".py",
   "mimetype": "text/x-python",
   "name": "python",
   "nbconvert_exporter": "python",
   "pygments_lexer": "ipython3",
   "version": "3.10.12"
  }
 },
 "nbformat": 4,
 "nbformat_minor": 2
}
