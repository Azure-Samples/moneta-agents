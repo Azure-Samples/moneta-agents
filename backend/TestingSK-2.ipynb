{
 "cells": [
  {
   "cell_type": "code",
   "execution_count": 1,
   "metadata": {},
   "outputs": [
    {
     "name": "stderr",
     "output_type": "stream",
     "text": [
      "/home/aga/azureai/aoai-fsi-empowering-advisory-agentic/.venv/lib/python3.13/site-packages/azure/search/documents/indexes/_generated/models/_models_py3.py:5644: SyntaxWarning: invalid escape sequence '\\W'\n",
      "  pattern: str = \"\\W+\",\n",
      "/home/aga/azureai/aoai-fsi-empowering-advisory-agentic/.venv/lib/python3.13/site-packages/azure/search/documents/indexes/_generated/models/_models_py3.py:5869: SyntaxWarning: invalid escape sequence '\\W'\n",
      "  pattern: str = \"\\W+\",\n"
     ]
    },
    {
     "data": {
      "text/plain": [
       "True"
      ]
     },
     "execution_count": 1,
     "metadata": {},
     "output_type": "execute_result"
    }
   ],
   "source": [
    "import json\n",
    "import time\n",
    "import sys\n",
    "import os\n",
    "import logging\n",
    "import yaml\n",
    "from dotenv import load_dotenv\n",
    "from azure.identity import DefaultAzureCredential\n",
    "from crm_store import CRMStore\n",
    "from conversation_store import ConversationStore\n",
    "from sk.sk_handler import SemanticKernelHandler\n",
    "from semantic_kernel.contents.chat_message_content import ChatMessageContent\n",
    "from semantic_kernel.contents.utils.author_role import AuthorRole\n",
    "from semantic_kernel.agents import AgentGroupChat\n",
    "from semantic_kernel.utils.logging import setup_logging\n",
    "\n",
    "from semantic_kernel.contents.chat_history import ChatHistory\n",
    "from semantic_kernel.contents.chat_message_content import ChatMessageContent\n",
    "\n",
    "load_dotenv(override=True)\n"
   ]
  },
  {
   "cell_type": "code",
   "execution_count": 2,
   "metadata": {},
   "outputs": [],
   "source": [
    "setup_logging()\n",
    "\n",
    "logger = logging.getLogger(\"semantic_kernel\")\n",
    "logger.setLevel(logging.DEBUG)\n",
    "\n",
    "decorator = logging.getLogger(\"semantic_kernel.functions.kernel_function_decorator\")\n",
    "decorator.setLevel(logging.INFO)\n",
    "\n",
    "handler = logging.getLogger(\"semantic_kernel_handler\")\n",
    "handler.setLevel(logging.DEBUG)\n",
    "\n",
    "logging.info('Logging set')  # will not print anything"
   ]
  },
  {
   "cell_type": "code",
   "execution_count": 3,
   "metadata": {},
   "outputs": [],
   "source": [
    "key = DefaultAzureCredential()\n",
    "\n",
    "db = ConversationStore(\n",
    "        url=os.getenv(\"COSMOSDB_ENDPOINT\"),\n",
    "        key=key,\n",
    "        database_name=os.getenv(\"COSMOSDB_DATABASE_NAME\"),\n",
    "        container_name=os.getenv(\"COSMOSDB_CONTAINER_FSI_INS_USER_NAME\"),\n",
    "    )\n"
   ]
  },
  {
   "cell_type": "markdown",
   "metadata": {},
   "source": [
    "### SK Agent Group Chat - Single Agent / multi skill test - no history single shot"
   ]
  },
  {
   "cell_type": "code",
   "execution_count": 4,
   "metadata": {},
   "outputs": [
    {
     "name": "stderr",
     "output_type": "stream",
     "text": [
      "[2024-12-06 10:43:09 - semantic_kernel.prompt_template.kernel_prompt_template:68 - DEBUG] Extracting blocks from template: \n",
      "                    You are the next speaker selector.\n",
      "\n",
      "                    - You MUST return ONLY agent name from the list of available agents below.\n",
      "                    - You MUST return the agent name and nothing else.\n",
      "                    - Check the history, if any, and decide WHAT agent is the best next speaker\n",
      "                    - The names are case-sensitive and should not be abbreviated or changed.\n",
      "                    - YOU MUST OBSERVE AGENT USAGE INSTRUCTIONS.\n",
      "\n",
      "# AVAILABLE AGENTS\n",
      "\n",
      "Query: Agent processes the user request by calling external data sources\n",
      "Summariser: The agent that summarises a final response to the user's original inquiry by collecting responses from the OTHER agents\n",
      "\n",
      "# CHAT HISTORY\n",
      "\n",
      "{{$history}}\n",
      "                    \n",
      "[2024-12-06 10:43:09 - semantic_kernel.agents.group_chat.agent_chat:112 - INFO] Adding `1` agent chat messages\n",
      "[2024-12-06 10:43:09 - semantic_kernel.agents.strategies.selection.kernel_function_selection_strategy:73 - INFO] Kernel Function Selection Strategy next method called, invoking function: , selection\n",
      "[2024-12-06 10:43:09 - semantic_kernel.functions.kernel_function:19 - INFO] Function selection invoking.\n",
      "[2024-12-06 10:43:09 - semantic_kernel.functions.kernel_function:24 - DEBUG] Function arguments: {'agents': 'Query,Summariser', 'history': [{'role': 'user', 'content': 'Provide me the policies of my client John Doe in a table format'}]}\n",
      "[2024-12-06 10:43:09 - semantic_kernel.prompt_template.kernel_prompt_template:113 - DEBUG] Rendering list of 3 blocks\n",
      "[2024-12-06 10:43:09 - semantic_kernel.prompt_template.kernel_prompt_template:129 - DEBUG] Rendered prompt: \n",
      "                    You are the next speaker selector.\n",
      "\n",
      "                    - You MUST return ONLY agent name from the list of available agents below.\n",
      "                    - You MUST return the agent name and nothing else.\n",
      "                    - Check the history, if any, and decide WHAT agent is the best next speaker\n",
      "                    - The names are case-sensitive and should not be abbreviated or changed.\n",
      "                    - YOU MUST OBSERVE AGENT USAGE INSTRUCTIONS.\n",
      "\n",
      "# AVAILABLE AGENTS\n",
      "\n",
      "Query: Agent processes the user request by calling external data sources\n",
      "Summariser: The agent that summarises a final response to the user's original inquiry by collecting responses from the OTHER agents\n",
      "\n",
      "# CHAT HISTORY\n",
      "\n",
      "[{'role': 'user', 'content': 'Provide me the policies of my client John Doe in a table format'}]\n",
      "                    \n",
      "[2024-12-06 10:43:10 - semantic_kernel.connectors.ai.open_ai.services.open_ai_handler:194 - INFO] OpenAI usage: CompletionUsage(completion_tokens=1, prompt_tokens=162, total_tokens=163, completion_tokens_details=None, prompt_tokens_details=None)\n",
      "[2024-12-06 10:43:10 - semantic_kernel.functions.kernel_function:29 - INFO] Function selection succeeded.\n",
      "[2024-12-06 10:43:10 - semantic_kernel.functions.kernel_function:39 - DEBUG] Function result: Query\n",
      "[2024-12-06 10:43:10 - semantic_kernel.functions.kernel_function:53 - INFO] Function completed. Duration: 0.710080s\n",
      "[2024-12-06 10:43:10 - semantic_kernel.agents.strategies.selection.kernel_function_selection_strategy:84 - INFO] Kernel Function Selection Strategy next method completed: , selection, result: [ChatMessageContent(inner_content=ChatCompletion(id='chatcmpl-AbP9Z1DEOyMN8Seg7TxQlkt4GmB6Z', choices=[Choice(finish_reason='stop', index=0, logprobs=None, message=ChatCompletionMessage(content='Query', refusal=None, role='assistant', audio=None, function_call=None, tool_calls=None), content_filter_results={'hate': {'filtered': False, 'severity': 'safe'}, 'self_harm': {'filtered': False, 'severity': 'safe'}, 'sexual': {'filtered': False, 'severity': 'safe'}, 'violence': {'filtered': False, 'severity': 'safe'}})], created=1733478189, model='gpt-4o-2024-08-06', object='chat.completion', service_tier=None, system_fingerprint='fp_04751d0b65', usage=CompletionUsage(completion_tokens=1, prompt_tokens=162, total_tokens=163, completion_tokens_details=None, prompt_tokens_details=None), prompt_filter_results=[{'prompt_index': 0, 'content_filter_results': {'hate': {'filtered': False, 'severity': 'safe'}, 'jailbreak': {'filtered': False, 'detected': False}, 'self_harm': {'filtered': False, 'severity': 'safe'}, 'sexual': {'filtered': False, 'severity': 'safe'}, 'violence': {'filtered': False, 'severity': 'safe'}}}]), ai_model_id='gpt-4o', metadata={'logprobs': None, 'id': 'chatcmpl-AbP9Z1DEOyMN8Seg7TxQlkt4GmB6Z', 'created': 1733478189, 'system_fingerprint': 'fp_04751d0b65', 'usage': CompletionUsage(prompt_tokens=162, completion_tokens=1)}, content_type='message', role=<AuthorRole.ASSISTANT: 'assistant'>, name=None, items=[TextContent(inner_content=None, ai_model_id=None, metadata={}, content_type='text', text='Query', encoding=None)], encoding=None, finish_reason=<FinishReason.STOP: 'stop'>)]\n",
      "[2024-12-06 10:43:10 - semantic_kernel.agents.group_chat.agent_chat:139 - INFO] Invoking agent Query\n",
      "[2024-12-06 10:43:10 - semantic_kernel.agents.chat_completion.chat_completion_agent:109 - DEBUG] [ChatCompletionAgent] Invoking AzureChatCompletion.\n",
      "[2024-12-06 10:43:11 - semantic_kernel.connectors.ai.open_ai.services.open_ai_handler:194 - INFO] OpenAI usage: CompletionUsage(completion_tokens=23, prompt_tokens=407, total_tokens=430, completion_tokens_details=None, prompt_tokens_details=None)\n",
      "[2024-12-06 10:43:11 - semantic_kernel.connectors.ai.chat_completion_client_base:149 - INFO] processing 1 tool calls in parallel.\n",
      "[2024-12-06 10:43:11 - semantic_kernel.kernel:383 - INFO] Calling crm-load_from_crm_by_client_fullname function with args: {\"full_name\":\"John Doe\"}\n",
      "[2024-12-06 10:43:11 - semantic_kernel.functions.kernel_function:19 - INFO] Function crm-load_from_crm_by_client_fullname invoking.\n",
      "[2024-12-06 10:43:11 - semantic_kernel.functions.kernel_function:24 - DEBUG] Function arguments: {'full_name': 'John Doe'}\n",
      "[2024-12-06 10:43:11 - semantic_kernel.functions.kernel_function:29 - INFO] Function crm-load_from_crm_by_client_fullname succeeded.\n",
      "[2024-12-06 10:43:11 - semantic_kernel.functions.kernel_function:39 - DEBUG] Function result: {\"id\": \"987654321\", \"clientID\": \"987654321\", \"firstName\": \"John\", \"lastName\": \"Doe\", \"fullName\": \"John Doe\", \"dateOfBirth\": \"1980-01-01\", \"nationality\": \"Malaysia\", \"contactDetails\": {\"email\": \"john.doe@example.com\", \"phone\": \"123-456-7890\"}, \"address\": {\"street\": \"123 Main St\", \"city\": \"New York\", \"state\": \"NY\", \"postalCode\": \"12345\", \"country\": \"USA\"}, \"policies\": [{\"PolicyNo\": \"A1234567\", \"BasicPlanProduct\": \"P230ZII\", \"ProductType\": \"Ztravel International\", \"PolicyStatus\": \"A\", \"EffectiveDate\": \"2024-06-18 00:00:00.000\", \"ExpiryDate\": \"2024-07-13 00:00:00.000\", \"Overseas Medical Expenses\": \"500000\", \"Follow up Treatment in Malaysia\": \"50000.0\", \"Alternative Medicine\": \"500.0\", \"Overseas Hospital Income\": \"15000.0\", \"Child Care Benefit\": \"10000.0\", \"Compassionate Visit\": \"10000.0\", \"Emergency Medical Evacuation\": \"Unlimited\", \"Medical Repatriation\": \"Unlimited\", \"Repatriation of Mortal Remains\": \"Unlimited\"}, {\"PolicyNo\": \"B1234567\", \"BasicPlanProduct\": \"P230ZII\", \"ProductType\": \"Ztravel International Plus\", \"PolicyStatus\": \"A\", \"EffectiveDate\": \"2024-06-18 00:00:00.000\", \"ExpiryDate\": \"2024-07-13 00:00:00.000\", \"Overseas Medical Expenses\": \"500000\", \"Follow up Treatment in Malaysia\": \"50000.0\", \"Alternative Medicine\": \"5000.0\", \"Overseas Hospital Income\": \"15000.0\", \"Child Care Benefit\": \"100000.0\", \"Compassionate Visit\": \"10000.0\", \"Emergency Medical Evacuation\": \"Unlimited\", \"Medical Repatriation\": \"Unlimited\", \"Repatriation of Mortal Remains\": \"Unlimited\"}, {\"PolicyNo\": \"C1234567\", \"BasicPlanProduct\": \"P045PSI\", \"ProductType\": \"Personal Accident\", \"PolicyStatus\": \"A\", \"EffectiveDate\": \"2018-08-15 00:00:00.000\", \"ExpiryDate\": \"2019-08-14 00:00:00.000\", \"Overseas Medical Expenses\": \"500000\", \"Follow up Treatment in Malaysia\": \"500000.0\", \"Alternative Medicine\": \"5000.0\", \"Overseas Hospital Income\": \"150000.0\", \"Child Care Benefit\": \"100000.0\", \"Compassionate Visit\": \"100000.0\", \"Emergency Medical Evacuation\": \"Unlimited\", \"Medical Repatriation\": \"Unlimited\", \"Repatriation of Mortal Remains\": \"Unlimited\"}], \"_rid\": \"TJJPANstunIDAAAAAAAAAA==\", \"_self\": \"dbs/TJJPAA==/colls/TJJPANstunI=/docs/TJJPANstunIDAAAAAAAAAA==/\", \"_etag\": \"\\\"1900162f-0000-4700-0000-6710b2d40000\\\"\", \"_attachments\": \"attachments/\", \"_ts\": 1729147604}\n",
      "[2024-12-06 10:43:11 - semantic_kernel.functions.kernel_function:53 - INFO] Function completed. Duration: 0.107120s\n",
      "[2024-12-06 10:43:19 - semantic_kernel.connectors.ai.open_ai.services.open_ai_handler:194 - INFO] OpenAI usage: CompletionUsage(completion_tokens=439, prompt_tokens=1200, total_tokens=1639, completion_tokens_details=None, prompt_tokens_details=None)\n",
      "[2024-12-06 10:43:19 - semantic_kernel.agents.chat_completion.chat_completion_agent:117 - INFO] [ChatCompletionAgent] Invoked AzureChatCompletion with message count: 2.\n",
      "[2024-12-06 10:43:19 - semantic_kernel.agents.strategies.termination.termination_strategy:48 - INFO] Evaluating termination criteria for bdeea0db-39d4-4223-bc2e-7f350ee93b26\n",
      "[2024-12-06 10:43:19 - semantic_kernel.agents.strategies.termination.termination_strategy:56 - INFO] Evaluated criteria for bdeea0db-39d4-4223-bc2e-7f350ee93b26, should terminate: False\n",
      "[2024-12-06 10:43:19 - semantic_kernel.agents.strategies.selection.kernel_function_selection_strategy:73 - INFO] Kernel Function Selection Strategy next method called, invoking function: , selection\n",
      "[2024-12-06 10:43:19 - semantic_kernel.functions.kernel_function:19 - INFO] Function selection invoking.\n",
      "[2024-12-06 10:43:19 - semantic_kernel.functions.kernel_function:24 - DEBUG] Function arguments: {'agents': 'Query,Summariser', 'history': [{'role': 'user', 'content': 'Provide me the policies of my client John Doe in a table format'}, {'role': 'assistant', 'tool_calls': [{'id': 'call_m1tS7kmPlbm5kH9XY1opgVfu', 'type': 'function', 'function': {'name': 'crm-load_from_crm_by_client_fullname', 'arguments': '{\"full_name\":\"John Doe\"}'}}], 'name': 'Query'}, {'role': 'tool', 'content': '{\"id\": \"987654321\", \"clientID\": \"987654321\", \"firstName\": \"John\", \"lastName\": \"Doe\", \"fullName\": \"John Doe\", \"dateOfBirth\": \"1980-01-01\", \"nationality\": \"Malaysia\", \"contactDetails\": {\"email\": \"john.doe@example.com\", \"phone\": \"123-456-7890\"}, \"address\": {\"street\": \"123 Main St\", \"city\": \"New York\", \"state\": \"NY\", \"postalCode\": \"12345\", \"country\": \"USA\"}, \"policies\": [{\"PolicyNo\": \"A1234567\", \"BasicPlanProduct\": \"P230ZII\", \"ProductType\": \"Ztravel International\", \"PolicyStatus\": \"A\", \"EffectiveDate\": \"2024-06-18 00:00:00.000\", \"ExpiryDate\": \"2024-07-13 00:00:00.000\", \"Overseas Medical Expenses\": \"500000\", \"Follow up Treatment in Malaysia\": \"50000.0\", \"Alternative Medicine\": \"500.0\", \"Overseas Hospital Income\": \"15000.0\", \"Child Care Benefit\": \"10000.0\", \"Compassionate Visit\": \"10000.0\", \"Emergency Medical Evacuation\": \"Unlimited\", \"Medical Repatriation\": \"Unlimited\", \"Repatriation of Mortal Remains\": \"Unlimited\"}, {\"PolicyNo\": \"B1234567\", \"BasicPlanProduct\": \"P230ZII\", \"ProductType\": \"Ztravel International Plus\", \"PolicyStatus\": \"A\", \"EffectiveDate\": \"2024-06-18 00:00:00.000\", \"ExpiryDate\": \"2024-07-13 00:00:00.000\", \"Overseas Medical Expenses\": \"500000\", \"Follow up Treatment in Malaysia\": \"50000.0\", \"Alternative Medicine\": \"5000.0\", \"Overseas Hospital Income\": \"15000.0\", \"Child Care Benefit\": \"100000.0\", \"Compassionate Visit\": \"10000.0\", \"Emergency Medical Evacuation\": \"Unlimited\", \"Medical Repatriation\": \"Unlimited\", \"Repatriation of Mortal Remains\": \"Unlimited\"}, {\"PolicyNo\": \"C1234567\", \"BasicPlanProduct\": \"P045PSI\", \"ProductType\": \"Personal Accident\", \"PolicyStatus\": \"A\", \"EffectiveDate\": \"2018-08-15 00:00:00.000\", \"ExpiryDate\": \"2019-08-14 00:00:00.000\", \"Overseas Medical Expenses\": \"500000\", \"Follow up Treatment in Malaysia\": \"500000.0\", \"Alternative Medicine\": \"5000.0\", \"Overseas Hospital Income\": \"150000.0\", \"Child Care Benefit\": \"100000.0\", \"Compassionate Visit\": \"100000.0\", \"Emergency Medical Evacuation\": \"Unlimited\", \"Medical Repatriation\": \"Unlimited\", \"Repatriation of Mortal Remains\": \"Unlimited\"}], \"_rid\": \"TJJPANstunIDAAAAAAAAAA==\", \"_self\": \"dbs/TJJPAA==/colls/TJJPANstunI=/docs/TJJPANstunIDAAAAAAAAAA==/\", \"_etag\": \"\\\\\"1900162f-0000-4700-0000-6710b2d40000\\\\\"\", \"_attachments\": \"attachments/\", \"_ts\": 1729147604}', 'tool_call_id': 'call_m1tS7kmPlbm5kH9XY1opgVfu'}, {'role': 'assistant', 'content': 'Here are the policy details for John Doe:\\n\\n| Policy No | Basic Plan Product | Product Type              | Policy Status | Effective Date       | Expiry Date          | Overseas Medical Expenses | Follow up Treatment in Malaysia | Alternative Medicine | Overseas Hospital Income | Child Care Benefit | Compassionate Visit | Emergency Medical Evacuation | Medical Repatriation | Repatriation of Mortal Remains |\\n|-----------|--------------------|---------------------------|---------------|----------------------|----------------------|---------------------------|-------------------------------|----------------------|--------------------------|-------------------|--------------------|-----------------------------|----------------------|-------------------------------|\\n| A1234567  | P230ZII            | Ztravel International     | A             | 2024-06-18 00:00:00  | 2024-07-13 00:00:00  | 500,000                   | 50,000.0                      | 500.0                | 15,000.0                 | 10,000.0          | 10,000.0           | Unlimited                   | Unlimited            | Unlimited                       |\\n| B1234567  | P230ZII            | Ztravel International Plus| A             | 2024-06-18 00:00:00  | 2024-07-13 00:00:00  | 500,000                   | 50,000.0                      | 5,000.0              | 15,000.0                 | 100,000.0         | 10,000.0           | Unlimited                   | Unlimited            | Unlimited                       |\\n| C1234567  | P045PSI            | Personal Accident         | A             | 2018-08-15 00:00:00  | 2019-08-14 00:00:00  | 500,000                   | 500,000.0                     | 5,000.0              | 150,000.0                | 100,000.0         | 100,000.0          | Unlimited                   | Unlimited            | Unlimited                       |', 'name': 'Query'}]}\n",
      "[2024-12-06 10:43:19 - semantic_kernel.prompt_template.kernel_prompt_template:113 - DEBUG] Rendering list of 3 blocks\n",
      "[2024-12-06 10:43:19 - semantic_kernel.prompt_template.kernel_prompt_template:129 - DEBUG] Rendered prompt: \n",
      "                    You are the next speaker selector.\n",
      "\n",
      "                    - You MUST return ONLY agent name from the list of available agents below.\n",
      "                    - You MUST return the agent name and nothing else.\n",
      "                    - Check the history, if any, and decide WHAT agent is the best next speaker\n",
      "                    - The names are case-sensitive and should not be abbreviated or changed.\n",
      "                    - YOU MUST OBSERVE AGENT USAGE INSTRUCTIONS.\n",
      "\n",
      "# AVAILABLE AGENTS\n",
      "\n",
      "Query: Agent processes the user request by calling external data sources\n",
      "Summariser: The agent that summarises a final response to the user's original inquiry by collecting responses from the OTHER agents\n",
      "\n",
      "# CHAT HISTORY\n",
      "\n",
      "[{'role': 'user', 'content': 'Provide me the policies of my client John Doe in a table format'}, {'role': 'assistant', 'tool_calls': [{'id': 'call_m1tS7kmPlbm5kH9XY1opgVfu', 'type': 'function', 'function': {'name': 'crm-load_from_crm_by_client_fullname', 'arguments': '{\"full_name\":\"John Doe\"}'}}], 'name': 'Query'}, {'role': 'tool', 'content': '{\"id\": \"987654321\", \"clientID\": \"987654321\", \"firstName\": \"John\", \"lastName\": \"Doe\", \"fullName\": \"John Doe\", \"dateOfBirth\": \"1980-01-01\", \"nationality\": \"Malaysia\", \"contactDetails\": {\"email\": \"john.doe@example.com\", \"phone\": \"123-456-7890\"}, \"address\": {\"street\": \"123 Main St\", \"city\": \"New York\", \"state\": \"NY\", \"postalCode\": \"12345\", \"country\": \"USA\"}, \"policies\": [{\"PolicyNo\": \"A1234567\", \"BasicPlanProduct\": \"P230ZII\", \"ProductType\": \"Ztravel International\", \"PolicyStatus\": \"A\", \"EffectiveDate\": \"2024-06-18 00:00:00.000\", \"ExpiryDate\": \"2024-07-13 00:00:00.000\", \"Overseas Medical Expenses\": \"500000\", \"Follow up Treatment in Malaysia\": \"50000.0\", \"Alternative Medicine\": \"500.0\", \"Overseas Hospital Income\": \"15000.0\", \"Child Care Benefit\": \"10000.0\", \"Compassionate Visit\": \"10000.0\", \"Emergency Medical Evacuation\": \"Unlimited\", \"Medical Repatriation\": \"Unlimited\", \"Repatriation of Mortal Remains\": \"Unlimited\"}, {\"PolicyNo\": \"B1234567\", \"BasicPlanProduct\": \"P230ZII\", \"ProductType\": \"Ztravel International Plus\", \"PolicyStatus\": \"A\", \"EffectiveDate\": \"2024-06-18 00:00:00.000\", \"ExpiryDate\": \"2024-07-13 00:00:00.000\", \"Overseas Medical Expenses\": \"500000\", \"Follow up Treatment in Malaysia\": \"50000.0\", \"Alternative Medicine\": \"5000.0\", \"Overseas Hospital Income\": \"15000.0\", \"Child Care Benefit\": \"100000.0\", \"Compassionate Visit\": \"10000.0\", \"Emergency Medical Evacuation\": \"Unlimited\", \"Medical Repatriation\": \"Unlimited\", \"Repatriation of Mortal Remains\": \"Unlimited\"}, {\"PolicyNo\": \"C1234567\", \"BasicPlanProduct\": \"P045PSI\", \"ProductType\": \"Personal Accident\", \"PolicyStatus\": \"A\", \"EffectiveDate\": \"2018-08-15 00:00:00.000\", \"ExpiryDate\": \"2019-08-14 00:00:00.000\", \"Overseas Medical Expenses\": \"500000\", \"Follow up Treatment in Malaysia\": \"500000.0\", \"Alternative Medicine\": \"5000.0\", \"Overseas Hospital Income\": \"150000.0\", \"Child Care Benefit\": \"100000.0\", \"Compassionate Visit\": \"100000.0\", \"Emergency Medical Evacuation\": \"Unlimited\", \"Medical Repatriation\": \"Unlimited\", \"Repatriation of Mortal Remains\": \"Unlimited\"}], \"_rid\": \"TJJPANstunIDAAAAAAAAAA==\", \"_self\": \"dbs/TJJPAA==/colls/TJJPANstunI=/docs/TJJPANstunIDAAAAAAAAAA==/\", \"_etag\": \"\\\\\"1900162f-0000-4700-0000-6710b2d40000\\\\\"\", \"_attachments\": \"attachments/\", \"_ts\": 1729147604}', 'tool_call_id': 'call_m1tS7kmPlbm5kH9XY1opgVfu'}, {'role': 'assistant', 'content': 'Here are the policy details for John Doe:\\n\\n| Policy No | Basic Plan Product | Product Type              | Policy Status | Effective Date       | Expiry Date          | Overseas Medical Expenses | Follow up Treatment in Malaysia | Alternative Medicine | Overseas Hospital Income | Child Care Benefit | Compassionate Visit | Emergency Medical Evacuation | Medical Repatriation | Repatriation of Mortal Remains |\\n|-----------|--------------------|---------------------------|---------------|----------------------|----------------------|---------------------------|-------------------------------|----------------------|--------------------------|-------------------|--------------------|-----------------------------|----------------------|-------------------------------|\\n| A1234567  | P230ZII            | Ztravel International     | A             | 2024-06-18 00:00:00  | 2024-07-13 00:00:00  | 500,000                   | 50,000.0                      | 500.0                | 15,000.0                 | 10,000.0          | 10,000.0           | Unlimited                   | Unlimited            | Unlimited                       |\\n| B1234567  | P230ZII            | Ztravel International Plus| A             | 2024-06-18 00:00:00  | 2024-07-13 00:00:00  | 500,000                   | 50,000.0                      | 5,000.0              | 15,000.0                 | 100,000.0         | 10,000.0           | Unlimited                   | Unlimited            | Unlimited                       |\\n| C1234567  | P045PSI            | Personal Accident         | A             | 2018-08-15 00:00:00  | 2019-08-14 00:00:00  | 500,000                   | 500,000.0                     | 5,000.0              | 150,000.0                | 100,000.0         | 100,000.0          | Unlimited                   | Unlimited            | Unlimited                       |', 'name': 'Query'}]\n",
      "                    \n"
     ]
    },
    {
     "name": "stdout",
     "output_type": "stream",
     "text": [
      "---------------- >>>>>>  -------------------\n",
      "Query: Here are the policy details for John Doe:\n",
      "\n",
      "| Policy No | Basic Plan Product | Product Type              | Policy Status | Effective Date       | Expiry Date          | Overseas Medical Expenses | Follow up Treatment in Malaysia | Alternative Medicine | Overseas Hospital Income | Child Care Benefit | Compassionate Visit | Emergency Medical Evacuation | Medical Repatriation | Repatriation of Mortal Remains |\n",
      "|-----------|--------------------|---------------------------|---------------|----------------------|----------------------|---------------------------|-------------------------------|----------------------|--------------------------|-------------------|--------------------|-----------------------------|----------------------|-------------------------------|\n",
      "| A1234567  | P230ZII            | Ztravel International     | A             | 2024-06-18 00:00:00  | 2024-07-13 00:00:00  | 500,000                   | 50,000.0                      | 500.0                | 15,000.0                 | 10,000.0          | 10,000.0           | Unlimited                   | Unlimited            | Unlimited                       |\n",
      "| B1234567  | P230ZII            | Ztravel International Plus| A             | 2024-06-18 00:00:00  | 2024-07-13 00:00:00  | 500,000                   | 50,000.0                      | 5,000.0              | 15,000.0                 | 100,000.0         | 10,000.0           | Unlimited                   | Unlimited            | Unlimited                       |\n",
      "| C1234567  | P045PSI            | Personal Accident         | A             | 2018-08-15 00:00:00  | 2019-08-14 00:00:00  | 500,000                   | 500,000.0                     | 5,000.0              | 150,000.0                | 100,000.0         | 100,000.0          | Unlimited                   | Unlimited            | Unlimited                       |\n"
     ]
    },
    {
     "name": "stderr",
     "output_type": "stream",
     "text": [
      "[2024-12-06 10:43:20 - semantic_kernel.connectors.ai.open_ai.services.open_ai_handler:194 - INFO] OpenAI usage: CompletionUsage(completion_tokens=3, prompt_tokens=1489, total_tokens=1492, completion_tokens_details=None, prompt_tokens_details=None)\n",
      "[2024-12-06 10:43:20 - semantic_kernel.functions.kernel_function:29 - INFO] Function selection succeeded.\n",
      "[2024-12-06 10:43:20 - semantic_kernel.functions.kernel_function:39 - DEBUG] Function result: Summariser\n",
      "[2024-12-06 10:43:20 - semantic_kernel.functions.kernel_function:53 - INFO] Function completed. Duration: 0.495136s\n",
      "[2024-12-06 10:43:20 - semantic_kernel.agents.strategies.selection.kernel_function_selection_strategy:84 - INFO] Kernel Function Selection Strategy next method completed: , selection, result: [ChatMessageContent(inner_content=ChatCompletion(id='chatcmpl-AbP9iSTnaGsjeQpavzwnlD8JEwftm', choices=[Choice(finish_reason='stop', index=0, logprobs=None, message=ChatCompletionMessage(content='Summariser', refusal=None, role='assistant', audio=None, function_call=None, tool_calls=None), content_filter_results={'hate': {'filtered': False, 'severity': 'safe'}, 'self_harm': {'filtered': False, 'severity': 'safe'}, 'sexual': {'filtered': False, 'severity': 'safe'}, 'violence': {'filtered': False, 'severity': 'safe'}})], created=1733478198, model='gpt-4o-2024-08-06', object='chat.completion', service_tier=None, system_fingerprint='fp_04751d0b65', usage=CompletionUsage(completion_tokens=3, prompt_tokens=1489, total_tokens=1492, completion_tokens_details=None, prompt_tokens_details=None), prompt_filter_results=[{'prompt_index': 0, 'content_filter_results': {'hate': {'filtered': False, 'severity': 'safe'}, 'jailbreak': {'filtered': False, 'detected': False}, 'self_harm': {'filtered': False, 'severity': 'safe'}, 'sexual': {'filtered': False, 'severity': 'safe'}, 'violence': {'filtered': False, 'severity': 'safe'}}}]), ai_model_id='gpt-4o', metadata={'logprobs': None, 'id': 'chatcmpl-AbP9iSTnaGsjeQpavzwnlD8JEwftm', 'created': 1733478198, 'system_fingerprint': 'fp_04751d0b65', 'usage': CompletionUsage(prompt_tokens=1489, completion_tokens=3)}, content_type='message', role=<AuthorRole.ASSISTANT: 'assistant'>, name=None, items=[TextContent(inner_content=None, ai_model_id=None, metadata={}, content_type='text', text='Summariser', encoding=None)], encoding=None, finish_reason=<FinishReason.STOP: 'stop'>)]\n",
      "[2024-12-06 10:43:20 - semantic_kernel.agents.group_chat.agent_chat:139 - INFO] Invoking agent Summariser\n",
      "[2024-12-06 10:43:20 - semantic_kernel.agents.chat_completion.chat_completion_agent:109 - DEBUG] [ChatCompletionAgent] Invoking AzureChatCompletion.\n",
      "[2024-12-06 10:43:26 - semantic_kernel.connectors.ai.open_ai.services.open_ai_handler:194 - INFO] OpenAI usage: CompletionUsage(completion_tokens=403, prompt_tokens=1457, total_tokens=1860, completion_tokens_details=None, prompt_tokens_details=None)\n",
      "[2024-12-06 10:43:26 - semantic_kernel.agents.chat_completion.chat_completion_agent:117 - INFO] [ChatCompletionAgent] Invoked AzureChatCompletion with message count: 5.\n",
      "[2024-12-06 10:43:26 - semantic_kernel.agents.strategies.termination.termination_strategy:48 - INFO] Evaluating termination criteria for f5e2a7bc-6971-475b-9c14-a6c4db5fc858\n",
      "[2024-12-06 10:43:26 - semantic_kernel.agents.strategies.termination.termination_strategy:56 - INFO] Evaluated criteria for f5e2a7bc-6971-475b-9c14-a6c4db5fc858, should terminate: True\n",
      "[2024-12-06 10:43:26 - semantic_kernel.agents.group_chat.agent_chat:67 - INFO] Getting chat messages\n"
     ]
    },
    {
     "name": "stdout",
     "output_type": "stream",
     "text": [
      "---------------- >>>>>>  -------------------\n",
      "Summariser: Here are the policy details for John Doe:\n",
      "\n",
      "| Policy No | Basic Plan Product | Product Type              | Policy Status | Effective Date       | Expiry Date          | Overseas Medical Expenses | Follow up Treatment in Malaysia | Alternative Medicine | Overseas Hospital Income | Child Care Benefit | Compassionate Visit | Emergency Medical Evacuation | Medical Repatriation | Repatriation of Mortal Remains |\n",
      "|-----------|--------------------|---------------------------|---------------|----------------------|----------------------|---------------------------|-------------------------------|----------------------|--------------------------|-------------------|--------------------|-----------------------------|----------------------|-------------------------------|\n",
      "| A1234567  | P230ZII            | Ztravel International     | A             | 2024-06-18           | 2024-07-13           | 500,000                   | 50,000.0                      | 500.0                | 15,000.0                 | 10,000.0          | 10,000.0           | Unlimited                   | Unlimited            | Unlimited                       |\n",
      "| B1234567  | P230ZII            | Ztravel International Plus| A             | 2024-06-18           | 2024-07-13           | 500,000                   | 50,000.0                      | 5,000.0              | 15,000.0                 | 100,000.0         | 10,000.0           | Unlimited                   | Unlimited            | Unlimited                       |\n",
      "| C1234567  | P045PSI            | Personal Accident         | A             | 2018-08-15           | 2019-08-14           | 500,000                   | 500,000.0                     | 5,000.0              | 150,000.0                | 100,000.0         | 100,000.0          | Unlimited                   | Unlimited            | Unlimited                       |\n",
      "SK AgentGroupChat reponder response = [ChatMessageContent(inner_content=None, ai_model_id=None, metadata={}, content_type='message', role=<AuthorRole.USER: 'user'>, name=None, items=[TextContent(inner_content=None, ai_model_id=None, metadata={}, content_type='text', text='Provide me the policies of my client John Doe in a table format', encoding=None)], encoding=None, finish_reason=None), ChatMessageContent(inner_content=ChatCompletion(id='chatcmpl-AbP9Zv8yJW1QWml2HMkX718m9jupa', choices=[Choice(finish_reason='tool_calls', index=0, logprobs=None, message=ChatCompletionMessage(content=None, refusal=None, role='assistant', audio=None, function_call=None, tool_calls=[ChatCompletionMessageToolCall(id='call_m1tS7kmPlbm5kH9XY1opgVfu', function=Function(arguments='{\"full_name\":\"John Doe\"}', name='crm-load_from_crm_by_client_fullname'), type='function')]), content_filter_results={})], created=1733478189, model='gpt-4o-2024-08-06', object='chat.completion', service_tier=None, system_fingerprint='fp_04751d0b65', usage=CompletionUsage(completion_tokens=23, prompt_tokens=407, total_tokens=430, completion_tokens_details=None, prompt_tokens_details=None), prompt_filter_results=[{'prompt_index': 0, 'content_filter_results': {'hate': {'filtered': False, 'severity': 'safe'}, 'jailbreak': {'filtered': False, 'detected': False}, 'self_harm': {'filtered': False, 'severity': 'safe'}, 'sexual': {'filtered': False, 'severity': 'safe'}, 'violence': {'filtered': False, 'severity': 'safe'}}}]), ai_model_id='gpt-4o', metadata={'logprobs': None, 'id': 'chatcmpl-AbP9Zv8yJW1QWml2HMkX718m9jupa', 'created': 1733478189, 'system_fingerprint': 'fp_04751d0b65', 'usage': CompletionUsage(prompt_tokens=407, completion_tokens=23)}, content_type='message', role=<AuthorRole.ASSISTANT: 'assistant'>, name='Query', items=[FunctionCallContent(inner_content=None, ai_model_id=None, metadata={}, content_type=<ContentTypes.FUNCTION_CALL_CONTENT: 'function_call'>, id='call_m1tS7kmPlbm5kH9XY1opgVfu', index=None, name='crm-load_from_crm_by_client_fullname', function_name='load_from_crm_by_client_fullname', plugin_name='crm', arguments='{\"full_name\":\"John Doe\"}')], encoding=None, finish_reason=<FinishReason.TOOL_CALLS: 'tool_calls'>), ChatMessageContent(inner_content=None, ai_model_id=None, metadata={}, content_type='message', role=<AuthorRole.TOOL: 'tool'>, name='Query', items=[FunctionResultContent(inner_content=FunctionResult(function=KernelFunctionMetadata(name='load_from_crm_by_client_fullname', plugin_name='crm', description='Load insured client data from the CRM from the given full name', parameters=[KernelParameterMetadata(name='full_name', description='The customer full name to search for', default_value=None, type_='str', is_required=True, type_object=<class 'str'>, schema_data={'type': 'string', 'description': 'The customer full name to search for'}, include_in_function_choices=True)], is_prompt=False, is_asynchronous=False, return_parameter=KernelParameterMetadata(name='return', description='The output is a customer profile', default_value=None, type_='str', is_required=True, type_object=<class 'str'>, schema_data={'type': 'string', 'description': 'The output is a customer profile'}, include_in_function_choices=True), additional_properties={}), value='{\"id\": \"987654321\", \"clientID\": \"987654321\", \"firstName\": \"John\", \"lastName\": \"Doe\", \"fullName\": \"John Doe\", \"dateOfBirth\": \"1980-01-01\", \"nationality\": \"Malaysia\", \"contactDetails\": {\"email\": \"john.doe@example.com\", \"phone\": \"123-456-7890\"}, \"address\": {\"street\": \"123 Main St\", \"city\": \"New York\", \"state\": \"NY\", \"postalCode\": \"12345\", \"country\": \"USA\"}, \"policies\": [{\"PolicyNo\": \"A1234567\", \"BasicPlanProduct\": \"P230ZII\", \"ProductType\": \"Ztravel International\", \"PolicyStatus\": \"A\", \"EffectiveDate\": \"2024-06-18 00:00:00.000\", \"ExpiryDate\": \"2024-07-13 00:00:00.000\", \"Overseas Medical Expenses\": \"500000\", \"Follow up Treatment in Malaysia\": \"50000.0\", \"Alternative Medicine\": \"500.0\", \"Overseas Hospital Income\": \"15000.0\", \"Child Care Benefit\": \"10000.0\", \"Compassionate Visit\": \"10000.0\", \"Emergency Medical Evacuation\": \"Unlimited\", \"Medical Repatriation\": \"Unlimited\", \"Repatriation of Mortal Remains\": \"Unlimited\"}, {\"PolicyNo\": \"B1234567\", \"BasicPlanProduct\": \"P230ZII\", \"ProductType\": \"Ztravel International Plus\", \"PolicyStatus\": \"A\", \"EffectiveDate\": \"2024-06-18 00:00:00.000\", \"ExpiryDate\": \"2024-07-13 00:00:00.000\", \"Overseas Medical Expenses\": \"500000\", \"Follow up Treatment in Malaysia\": \"50000.0\", \"Alternative Medicine\": \"5000.0\", \"Overseas Hospital Income\": \"15000.0\", \"Child Care Benefit\": \"100000.0\", \"Compassionate Visit\": \"10000.0\", \"Emergency Medical Evacuation\": \"Unlimited\", \"Medical Repatriation\": \"Unlimited\", \"Repatriation of Mortal Remains\": \"Unlimited\"}, {\"PolicyNo\": \"C1234567\", \"BasicPlanProduct\": \"P045PSI\", \"ProductType\": \"Personal Accident\", \"PolicyStatus\": \"A\", \"EffectiveDate\": \"2018-08-15 00:00:00.000\", \"ExpiryDate\": \"2019-08-14 00:00:00.000\", \"Overseas Medical Expenses\": \"500000\", \"Follow up Treatment in Malaysia\": \"500000.0\", \"Alternative Medicine\": \"5000.0\", \"Overseas Hospital Income\": \"150000.0\", \"Child Care Benefit\": \"100000.0\", \"Compassionate Visit\": \"100000.0\", \"Emergency Medical Evacuation\": \"Unlimited\", \"Medical Repatriation\": \"Unlimited\", \"Repatriation of Mortal Remains\": \"Unlimited\"}], \"_rid\": \"TJJPANstunIDAAAAAAAAAA==\", \"_self\": \"dbs/TJJPAA==/colls/TJJPANstunI=/docs/TJJPANstunIDAAAAAAAAAA==/\", \"_etag\": \"\\\\\"1900162f-0000-4700-0000-6710b2d40000\\\\\"\", \"_attachments\": \"attachments/\", \"_ts\": 1729147604}', metadata={'arguments': {'full_name': 'John Doe'}, 'used_arguments': {'full_name': 'John Doe'}}), ai_model_id=None, metadata={'arguments': {'full_name': 'John Doe'}, 'used_arguments': {'full_name': 'John Doe'}}, content_type=<ContentTypes.FUNCTION_RESULT_CONTENT: 'function_result'>, id='call_m1tS7kmPlbm5kH9XY1opgVfu', result='{\"id\": \"987654321\", \"clientID\": \"987654321\", \"firstName\": \"John\", \"lastName\": \"Doe\", \"fullName\": \"John Doe\", \"dateOfBirth\": \"1980-01-01\", \"nationality\": \"Malaysia\", \"contactDetails\": {\"email\": \"john.doe@example.com\", \"phone\": \"123-456-7890\"}, \"address\": {\"street\": \"123 Main St\", \"city\": \"New York\", \"state\": \"NY\", \"postalCode\": \"12345\", \"country\": \"USA\"}, \"policies\": [{\"PolicyNo\": \"A1234567\", \"BasicPlanProduct\": \"P230ZII\", \"ProductType\": \"Ztravel International\", \"PolicyStatus\": \"A\", \"EffectiveDate\": \"2024-06-18 00:00:00.000\", \"ExpiryDate\": \"2024-07-13 00:00:00.000\", \"Overseas Medical Expenses\": \"500000\", \"Follow up Treatment in Malaysia\": \"50000.0\", \"Alternative Medicine\": \"500.0\", \"Overseas Hospital Income\": \"15000.0\", \"Child Care Benefit\": \"10000.0\", \"Compassionate Visit\": \"10000.0\", \"Emergency Medical Evacuation\": \"Unlimited\", \"Medical Repatriation\": \"Unlimited\", \"Repatriation of Mortal Remains\": \"Unlimited\"}, {\"PolicyNo\": \"B1234567\", \"BasicPlanProduct\": \"P230ZII\", \"ProductType\": \"Ztravel International Plus\", \"PolicyStatus\": \"A\", \"EffectiveDate\": \"2024-06-18 00:00:00.000\", \"ExpiryDate\": \"2024-07-13 00:00:00.000\", \"Overseas Medical Expenses\": \"500000\", \"Follow up Treatment in Malaysia\": \"50000.0\", \"Alternative Medicine\": \"5000.0\", \"Overseas Hospital Income\": \"15000.0\", \"Child Care Benefit\": \"100000.0\", \"Compassionate Visit\": \"10000.0\", \"Emergency Medical Evacuation\": \"Unlimited\", \"Medical Repatriation\": \"Unlimited\", \"Repatriation of Mortal Remains\": \"Unlimited\"}, {\"PolicyNo\": \"C1234567\", \"BasicPlanProduct\": \"P045PSI\", \"ProductType\": \"Personal Accident\", \"PolicyStatus\": \"A\", \"EffectiveDate\": \"2018-08-15 00:00:00.000\", \"ExpiryDate\": \"2019-08-14 00:00:00.000\", \"Overseas Medical Expenses\": \"500000\", \"Follow up Treatment in Malaysia\": \"500000.0\", \"Alternative Medicine\": \"5000.0\", \"Overseas Hospital Income\": \"150000.0\", \"Child Care Benefit\": \"100000.0\", \"Compassionate Visit\": \"100000.0\", \"Emergency Medical Evacuation\": \"Unlimited\", \"Medical Repatriation\": \"Unlimited\", \"Repatriation of Mortal Remains\": \"Unlimited\"}], \"_rid\": \"TJJPANstunIDAAAAAAAAAA==\", \"_self\": \"dbs/TJJPAA==/colls/TJJPANstunI=/docs/TJJPANstunIDAAAAAAAAAA==/\", \"_etag\": \"\\\\\"1900162f-0000-4700-0000-6710b2d40000\\\\\"\", \"_attachments\": \"attachments/\", \"_ts\": 1729147604}', name='crm-load_from_crm_by_client_fullname', function_name='load_from_crm_by_client_fullname', plugin_name='crm', encoding=None)], encoding=None, finish_reason=None), ChatMessageContent(inner_content=ChatCompletion(id='chatcmpl-AbP9aJjjDlRnEn8f8iUp47ATCbaGh', choices=[Choice(finish_reason='stop', index=0, logprobs=None, message=ChatCompletionMessage(content='Here are the policy details for John Doe:\\n\\n| Policy No | Basic Plan Product | Product Type              | Policy Status | Effective Date       | Expiry Date          | Overseas Medical Expenses | Follow up Treatment in Malaysia | Alternative Medicine | Overseas Hospital Income | Child Care Benefit | Compassionate Visit | Emergency Medical Evacuation | Medical Repatriation | Repatriation of Mortal Remains |\\n|-----------|--------------------|---------------------------|---------------|----------------------|----------------------|---------------------------|-------------------------------|----------------------|--------------------------|-------------------|--------------------|-----------------------------|----------------------|-------------------------------|\\n| A1234567  | P230ZII            | Ztravel International     | A             | 2024-06-18 00:00:00  | 2024-07-13 00:00:00  | 500,000                   | 50,000.0                      | 500.0                | 15,000.0                 | 10,000.0          | 10,000.0           | Unlimited                   | Unlimited            | Unlimited                       |\\n| B1234567  | P230ZII            | Ztravel International Plus| A             | 2024-06-18 00:00:00  | 2024-07-13 00:00:00  | 500,000                   | 50,000.0                      | 5,000.0              | 15,000.0                 | 100,000.0         | 10,000.0           | Unlimited                   | Unlimited            | Unlimited                       |\\n| C1234567  | P045PSI            | Personal Accident         | A             | 2018-08-15 00:00:00  | 2019-08-14 00:00:00  | 500,000                   | 500,000.0                     | 5,000.0              | 150,000.0                | 100,000.0         | 100,000.0          | Unlimited                   | Unlimited            | Unlimited                       |', refusal=None, role='assistant', audio=None, function_call=None, tool_calls=None), content_filter_result={'error': {'code': 'content_filter_error', 'message': 'The contents are not filtered'}}, content_filter_results={})], created=1733478190, model='gpt-4o-2024-08-06', object='chat.completion', service_tier=None, system_fingerprint='fp_04751d0b65', usage=CompletionUsage(completion_tokens=439, prompt_tokens=1200, total_tokens=1639, completion_tokens_details=None, prompt_tokens_details=None), prompt_filter_results=[{'prompt_index': 0, 'content_filter_results': {'hate': {'filtered': False, 'severity': 'safe'}, 'jailbreak': {'filtered': False, 'detected': False}, 'self_harm': {'filtered': False, 'severity': 'safe'}, 'sexual': {'filtered': False, 'severity': 'safe'}, 'violence': {'filtered': False, 'severity': 'safe'}}}]), ai_model_id='gpt-4o', metadata={'logprobs': None, 'id': 'chatcmpl-AbP9aJjjDlRnEn8f8iUp47ATCbaGh', 'created': 1733478190, 'system_fingerprint': 'fp_04751d0b65', 'usage': CompletionUsage(prompt_tokens=1200, completion_tokens=439)}, content_type='message', role=<AuthorRole.ASSISTANT: 'assistant'>, name='Query', items=[TextContent(inner_content=None, ai_model_id=None, metadata={}, content_type='text', text='Here are the policy details for John Doe:\\n\\n| Policy No | Basic Plan Product | Product Type              | Policy Status | Effective Date       | Expiry Date          | Overseas Medical Expenses | Follow up Treatment in Malaysia | Alternative Medicine | Overseas Hospital Income | Child Care Benefit | Compassionate Visit | Emergency Medical Evacuation | Medical Repatriation | Repatriation of Mortal Remains |\\n|-----------|--------------------|---------------------------|---------------|----------------------|----------------------|---------------------------|-------------------------------|----------------------|--------------------------|-------------------|--------------------|-----------------------------|----------------------|-------------------------------|\\n| A1234567  | P230ZII            | Ztravel International     | A             | 2024-06-18 00:00:00  | 2024-07-13 00:00:00  | 500,000                   | 50,000.0                      | 500.0                | 15,000.0                 | 10,000.0          | 10,000.0           | Unlimited                   | Unlimited            | Unlimited                       |\\n| B1234567  | P230ZII            | Ztravel International Plus| A             | 2024-06-18 00:00:00  | 2024-07-13 00:00:00  | 500,000                   | 50,000.0                      | 5,000.0              | 15,000.0                 | 100,000.0         | 10,000.0           | Unlimited                   | Unlimited            | Unlimited                       |\\n| C1234567  | P045PSI            | Personal Accident         | A             | 2018-08-15 00:00:00  | 2019-08-14 00:00:00  | 500,000                   | 500,000.0                     | 5,000.0              | 150,000.0                | 100,000.0         | 100,000.0          | Unlimited                   | Unlimited            | Unlimited                       |', encoding=None)], encoding=None, finish_reason=<FinishReason.STOP: 'stop'>), ChatMessageContent(inner_content=ChatCompletion(id='chatcmpl-AbP9j6VYwsEPvmGLn0odBcbsN57t2', choices=[Choice(finish_reason='stop', index=0, logprobs=None, message=ChatCompletionMessage(content='Here are the policy details for John Doe:\\n\\n| Policy No | Basic Plan Product | Product Type              | Policy Status | Effective Date       | Expiry Date          | Overseas Medical Expenses | Follow up Treatment in Malaysia | Alternative Medicine | Overseas Hospital Income | Child Care Benefit | Compassionate Visit | Emergency Medical Evacuation | Medical Repatriation | Repatriation of Mortal Remains |\\n|-----------|--------------------|---------------------------|---------------|----------------------|----------------------|---------------------------|-------------------------------|----------------------|--------------------------|-------------------|--------------------|-----------------------------|----------------------|-------------------------------|\\n| A1234567  | P230ZII            | Ztravel International     | A             | 2024-06-18           | 2024-07-13           | 500,000                   | 50,000.0                      | 500.0                | 15,000.0                 | 10,000.0          | 10,000.0           | Unlimited                   | Unlimited            | Unlimited                       |\\n| B1234567  | P230ZII            | Ztravel International Plus| A             | 2024-06-18           | 2024-07-13           | 500,000                   | 50,000.0                      | 5,000.0              | 15,000.0                 | 100,000.0         | 10,000.0           | Unlimited                   | Unlimited            | Unlimited                       |\\n| C1234567  | P045PSI            | Personal Accident         | A             | 2018-08-15           | 2019-08-14           | 500,000                   | 500,000.0                     | 5,000.0              | 150,000.0                | 100,000.0         | 100,000.0          | Unlimited                   | Unlimited            | Unlimited                       |', refusal=None, role='assistant', audio=None, function_call=None, tool_calls=None), content_filter_results={'hate': {'filtered': False, 'severity': 'safe'}, 'self_harm': {'filtered': False, 'severity': 'safe'}, 'sexual': {'filtered': False, 'severity': 'safe'}, 'violence': {'filtered': False, 'severity': 'safe'}})], created=1733478199, model='gpt-4o-2024-08-06', object='chat.completion', service_tier=None, system_fingerprint='fp_04751d0b65', usage=CompletionUsage(completion_tokens=403, prompt_tokens=1457, total_tokens=1860, completion_tokens_details=None, prompt_tokens_details=None), prompt_filter_results=[{'prompt_index': 0, 'content_filter_results': {'hate': {'filtered': False, 'severity': 'safe'}, 'jailbreak': {'filtered': False, 'detected': False}, 'self_harm': {'filtered': False, 'severity': 'safe'}, 'sexual': {'filtered': False, 'severity': 'safe'}, 'violence': {'filtered': False, 'severity': 'safe'}}}]), ai_model_id='gpt-4o', metadata={'logprobs': None, 'id': 'chatcmpl-AbP9j6VYwsEPvmGLn0odBcbsN57t2', 'created': 1733478199, 'system_fingerprint': 'fp_04751d0b65', 'usage': CompletionUsage(prompt_tokens=1457, completion_tokens=403)}, content_type='message', role=<AuthorRole.ASSISTANT: 'assistant'>, name='Summariser', items=[TextContent(inner_content=None, ai_model_id=None, metadata={}, content_type='text', text='Here are the policy details for John Doe:\\n\\n| Policy No | Basic Plan Product | Product Type              | Policy Status | Effective Date       | Expiry Date          | Overseas Medical Expenses | Follow up Treatment in Malaysia | Alternative Medicine | Overseas Hospital Income | Child Care Benefit | Compassionate Visit | Emergency Medical Evacuation | Medical Repatriation | Repatriation of Mortal Remains |\\n|-----------|--------------------|---------------------------|---------------|----------------------|----------------------|---------------------------|-------------------------------|----------------------|--------------------------|-------------------|--------------------|-----------------------------|----------------------|-------------------------------|\\n| A1234567  | P230ZII            | Ztravel International     | A             | 2024-06-18           | 2024-07-13           | 500,000                   | 50,000.0                      | 500.0                | 15,000.0                 | 10,000.0          | 10,000.0           | Unlimited                   | Unlimited            | Unlimited                       |\\n| B1234567  | P230ZII            | Ztravel International Plus| A             | 2024-06-18           | 2024-07-13           | 500,000                   | 50,000.0                      | 5,000.0              | 15,000.0                 | 100,000.0         | 10,000.0           | Unlimited                   | Unlimited            | Unlimited                       |\\n| C1234567  | P045PSI            | Personal Accident         | A             | 2018-08-15           | 2019-08-14           | 500,000                   | 500,000.0                     | 5,000.0              | 150,000.0                | 100,000.0         | 100,000.0          | Unlimited                   | Unlimited            | Unlimited                       |', encoding=None)], encoding=None, finish_reason=<FinishReason.STOP: 'stop'>)]\n"
     ]
    }
   ],
   "source": [
    "handler = SemanticKernelHandler(db)\n",
    "\n",
    "userId = 'sk_test_ins_1'\n",
    "user_data = {'chat_histories': {}}\n",
    "\n",
    "chat_history = ChatHistory()\n",
    "\n",
    "team_query_single = 'Provide me the policies of my client John Doe in a table format'\n",
    "\n",
    "agent_group_chat = handler.create_agent_group_chat(chat_history)\n",
    "\n",
    "await agent_group_chat.add_chat_message(ChatMessageContent(role=AuthorRole.USER, content=team_query_single))\n",
    "\n",
    "async for item in agent_group_chat.invoke():\n",
    "    print(\"---------------- >>>>>>  -------------------\")\n",
    "    print(f\"{item.name}: {item.content}\")\n",
    "    continue\n",
    "\n",
    "response = list(reversed([item async for item in agent_group_chat.get_chat_messages()]))\n",
    "\n",
    "print(f\"SK AgentGroupChat reponder response = {response}\")"
   ]
  },
  {
   "cell_type": "code",
   "execution_count": 5,
   "metadata": {},
   "outputs": [],
   "source": [
    "def extract_sk_responses(response):\n",
    "    \"\"\"\n",
    "    Extracts the assistant's response from a list of ChatMessageContent objects.\n",
    "\n",
    "    Args:\n",
    "        chat_messages (list): A list of ChatMessageContent objects.\n",
    "\n",
    "    Returns:\n",
    "        dict: A dictionary with keys 'role', 'name', and 'content' containing the assistant's response.\n",
    "    \"\"\"\n",
    "    # filtered_messages = filter(lambda m: m.content and m.role in (AuthorRole.ASSISTANT, AuthorRole.USER), response)\n",
    "    results = [ \n",
    "        {**d, 'name': d.get('name', '')} \n",
    "        for d in (obj.to_dict() for obj in response) \n",
    "    ]\n",
    "    \n",
    "    return results\n"
   ]
  },
  {
   "cell_type": "code",
   "execution_count": 6,
   "metadata": {},
   "outputs": [
    {
     "data": {
      "text/plain": [
       "[{'role': 'user',\n",
       "  'content': 'Provide me the policies of my client John Doe in a table format',\n",
       "  'name': ''},\n",
       " {'role': 'assistant',\n",
       "  'tool_calls': [{'id': 'call_m1tS7kmPlbm5kH9XY1opgVfu',\n",
       "    'type': 'function',\n",
       "    'function': {'name': 'crm-load_from_crm_by_client_fullname',\n",
       "     'arguments': '{\"full_name\":\"John Doe\"}'}}],\n",
       "  'name': 'Query'},\n",
       " {'role': 'tool',\n",
       "  'content': '{\"id\": \"987654321\", \"clientID\": \"987654321\", \"firstName\": \"John\", \"lastName\": \"Doe\", \"fullName\": \"John Doe\", \"dateOfBirth\": \"1980-01-01\", \"nationality\": \"Malaysia\", \"contactDetails\": {\"email\": \"john.doe@example.com\", \"phone\": \"123-456-7890\"}, \"address\": {\"street\": \"123 Main St\", \"city\": \"New York\", \"state\": \"NY\", \"postalCode\": \"12345\", \"country\": \"USA\"}, \"policies\": [{\"PolicyNo\": \"A1234567\", \"BasicPlanProduct\": \"P230ZII\", \"ProductType\": \"Ztravel International\", \"PolicyStatus\": \"A\", \"EffectiveDate\": \"2024-06-18 00:00:00.000\", \"ExpiryDate\": \"2024-07-13 00:00:00.000\", \"Overseas Medical Expenses\": \"500000\", \"Follow up Treatment in Malaysia\": \"50000.0\", \"Alternative Medicine\": \"500.0\", \"Overseas Hospital Income\": \"15000.0\", \"Child Care Benefit\": \"10000.0\", \"Compassionate Visit\": \"10000.0\", \"Emergency Medical Evacuation\": \"Unlimited\", \"Medical Repatriation\": \"Unlimited\", \"Repatriation of Mortal Remains\": \"Unlimited\"}, {\"PolicyNo\": \"B1234567\", \"BasicPlanProduct\": \"P230ZII\", \"ProductType\": \"Ztravel International Plus\", \"PolicyStatus\": \"A\", \"EffectiveDate\": \"2024-06-18 00:00:00.000\", \"ExpiryDate\": \"2024-07-13 00:00:00.000\", \"Overseas Medical Expenses\": \"500000\", \"Follow up Treatment in Malaysia\": \"50000.0\", \"Alternative Medicine\": \"5000.0\", \"Overseas Hospital Income\": \"15000.0\", \"Child Care Benefit\": \"100000.0\", \"Compassionate Visit\": \"10000.0\", \"Emergency Medical Evacuation\": \"Unlimited\", \"Medical Repatriation\": \"Unlimited\", \"Repatriation of Mortal Remains\": \"Unlimited\"}, {\"PolicyNo\": \"C1234567\", \"BasicPlanProduct\": \"P045PSI\", \"ProductType\": \"Personal Accident\", \"PolicyStatus\": \"A\", \"EffectiveDate\": \"2018-08-15 00:00:00.000\", \"ExpiryDate\": \"2019-08-14 00:00:00.000\", \"Overseas Medical Expenses\": \"500000\", \"Follow up Treatment in Malaysia\": \"500000.0\", \"Alternative Medicine\": \"5000.0\", \"Overseas Hospital Income\": \"150000.0\", \"Child Care Benefit\": \"100000.0\", \"Compassionate Visit\": \"100000.0\", \"Emergency Medical Evacuation\": \"Unlimited\", \"Medical Repatriation\": \"Unlimited\", \"Repatriation of Mortal Remains\": \"Unlimited\"}], \"_rid\": \"TJJPANstunIDAAAAAAAAAA==\", \"_self\": \"dbs/TJJPAA==/colls/TJJPANstunI=/docs/TJJPANstunIDAAAAAAAAAA==/\", \"_etag\": \"\\\\\"1900162f-0000-4700-0000-6710b2d40000\\\\\"\", \"_attachments\": \"attachments/\", \"_ts\": 1729147604}',\n",
       "  'tool_call_id': 'call_m1tS7kmPlbm5kH9XY1opgVfu',\n",
       "  'name': ''},\n",
       " {'role': 'assistant',\n",
       "  'content': 'Here are the policy details for John Doe:\\n\\n| Policy No | Basic Plan Product | Product Type              | Policy Status | Effective Date       | Expiry Date          | Overseas Medical Expenses | Follow up Treatment in Malaysia | Alternative Medicine | Overseas Hospital Income | Child Care Benefit | Compassionate Visit | Emergency Medical Evacuation | Medical Repatriation | Repatriation of Mortal Remains |\\n|-----------|--------------------|---------------------------|---------------|----------------------|----------------------|---------------------------|-------------------------------|----------------------|--------------------------|-------------------|--------------------|-----------------------------|----------------------|-------------------------------|\\n| A1234567  | P230ZII            | Ztravel International     | A             | 2024-06-18 00:00:00  | 2024-07-13 00:00:00  | 500,000                   | 50,000.0                      | 500.0                | 15,000.0                 | 10,000.0          | 10,000.0           | Unlimited                   | Unlimited            | Unlimited                       |\\n| B1234567  | P230ZII            | Ztravel International Plus| A             | 2024-06-18 00:00:00  | 2024-07-13 00:00:00  | 500,000                   | 50,000.0                      | 5,000.0              | 15,000.0                 | 100,000.0         | 10,000.0           | Unlimited                   | Unlimited            | Unlimited                       |\\n| C1234567  | P045PSI            | Personal Accident         | A             | 2018-08-15 00:00:00  | 2019-08-14 00:00:00  | 500,000                   | 500,000.0                     | 5,000.0              | 150,000.0                | 100,000.0         | 100,000.0          | Unlimited                   | Unlimited            | Unlimited                       |',\n",
       "  'name': 'Query'},\n",
       " {'role': 'assistant',\n",
       "  'content': 'Here are the policy details for John Doe:\\n\\n| Policy No | Basic Plan Product | Product Type              | Policy Status | Effective Date       | Expiry Date          | Overseas Medical Expenses | Follow up Treatment in Malaysia | Alternative Medicine | Overseas Hospital Income | Child Care Benefit | Compassionate Visit | Emergency Medical Evacuation | Medical Repatriation | Repatriation of Mortal Remains |\\n|-----------|--------------------|---------------------------|---------------|----------------------|----------------------|---------------------------|-------------------------------|----------------------|--------------------------|-------------------|--------------------|-----------------------------|----------------------|-------------------------------|\\n| A1234567  | P230ZII            | Ztravel International     | A             | 2024-06-18           | 2024-07-13           | 500,000                   | 50,000.0                      | 500.0                | 15,000.0                 | 10,000.0          | 10,000.0           | Unlimited                   | Unlimited            | Unlimited                       |\\n| B1234567  | P230ZII            | Ztravel International Plus| A             | 2024-06-18           | 2024-07-13           | 500,000                   | 50,000.0                      | 5,000.0              | 15,000.0                 | 100,000.0         | 10,000.0           | Unlimited                   | Unlimited            | Unlimited                       |\\n| C1234567  | P045PSI            | Personal Accident         | A             | 2018-08-15           | 2019-08-14           | 500,000                   | 500,000.0                     | 5,000.0              | 150,000.0                | 100,000.0         | 100,000.0          | Unlimited                   | Unlimited            | Unlimited                       |',\n",
       "  'name': 'Summariser'}]"
      ]
     },
     "execution_count": 6,
     "metadata": {},
     "output_type": "execute_result"
    }
   ],
   "source": [
    "extract_sk_responses(response)"
   ]
  }
 ],
 "metadata": {
  "kernelspec": {
   "display_name": ".venv",
   "language": "python",
   "name": "python3"
  },
  "language_info": {
   "codemirror_mode": {
    "name": "ipython",
    "version": 3
   },
   "file_extension": ".py",
   "mimetype": "text/x-python",
   "name": "python",
   "nbconvert_exporter": "python",
   "pygments_lexer": "ipython3",
   "version": "3.13.0"
  }
 },
 "nbformat": 4,
 "nbformat_minor": 2
}
